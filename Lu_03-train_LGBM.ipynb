{
 "cells": [
  {
   "cell_type": "code",
   "execution_count": 1,
   "id": "0cc5cf86",
   "metadata": {},
   "outputs": [],
   "source": [
    "import gc\n",
    "import joblib\n",
    "import numpy as np\n",
    "import pandas as pd\n",
    "import pickle\n",
    "import enum\n",
    "\n",
    "from collections import defaultdict\n",
    "from concurrent.futures import ProcessPoolExecutor\n",
    "from pathlib import Path\n",
    "from scipy.sparse import coo_matrix, dok_matrix, lil_matrix, csr_matrix, bsr_matrix\n",
    "from tqdm import tqdm\n",
    "import lightgbm as lgb\n",
    "from collections import deque\n",
    "import json\n",
    "from pylab import rcParams\n",
    "from sklearn.metrics import roc_auc_score\n",
    "from scipy import sparse\n",
    "from sklearn.model_selection import train_test_split\n",
    "from tqdm import tqdm\n",
    "from sklearn.metrics import accuracy_score"
   ]
  },
  {
   "cell_type": "code",
   "execution_count": 2,
   "id": "b763363c",
   "metadata": {},
   "outputs": [],
   "source": [
    "f_cols=[\n",
    "    #basic\n",
    "    'cu',#count of question of this user\n",
    "    'is_first',\n",
    "    #timestamp\n",
    "    'ts',\n",
    "    'ts_mod_day',\n",
    "    'ts_mod_week',\n",
    "    'ts_day',\n",
    "    #question\n",
    "    'question_id',\n",
    "#     'task_container_id',\n",
    "    'container_ord', #organ in the container\n",
    "    'part',\n",
    "    'bundle_id',\n",
    "    'tgg',#tag group\n",
    "    'qtag0',\n",
    "    'tag_num',#number of tags\n",
    "    'qp', #appear probability\n",
    "    'qc_r',#correct rate\n",
    "    #question user cum\n",
    "    #Calc cumsum for question numbers\n",
    "#     cum_sum',\n",
    "    'cum_csum',\n",
    "    'cum_crate',\n",
    "    'sum_avgt',#average cosume time\n",
    "    'a_ans',#already answerewd: 0 no 1 incorrect 2 correct\n",
    "    #prior answer\n",
    "    'pq',\n",
    "    'ptag0',\n",
    "    'ppart',\n",
    "    'pbundle',\n",
    "    'ptgg',\n",
    "    'pq_correct',#whether prior answered correct\n",
    "    'pqet',#remember to divide task_container num\n",
    "    'pqhe',\n",
    "    'tsli', #prior to current\n",
    "    'tsli2',\n",
    "    'tsli3',\n",
    "    'clipped_tsli',#20 minutes clipped\n",
    "    #for the last 5 questions\n",
    "    'roll_num',\n",
    "    'roll_1',\n",
    "    'roll_2',\n",
    "    'roll_3',\n",
    "    'roll_4',\n",
    "    'roll_5',\n",
    "    'roll_6',\n",
    "    'roll_7',\n",
    "    'roll_8',\n",
    "    'roll_9',\n",
    "    'roll_10',\n",
    "    #taggroup\n",
    "    'tgp',\n",
    "    'tgcr',\n",
    "    'tgg_num',#user question number under this taggroup\n",
    "    'tgg_cnum',#user correct question number under this taggroup\n",
    "    #lecture\n",
    "    'l_num',#lecture sum\n",
    "    'l_tag_num',#l_num in the tag\n",
    "    'l1_num',#l_num in concept\n",
    "    'l2_num',#l_num in solve questions\n",
    "    'l_part_num',\n",
    "    #diagnostic\n",
    "    'is_d',\n",
    "    #part\n",
    "    'pp_num',#paid part ratio 1,3,4,6,7\n",
    "    'lp_num',#listening part ratio 1,2,3,4\n",
    "    'pp_ratio',#paid part ratio 1,3,4,6,7\n",
    "    'lp_ratio',#listening part ratio 1,2,3,4\n",
    "    #answer\n",
    "    'answered_correctly',\n",
    "    'user_answer'\n",
    "]\n"
   ]
  },
  {
   "cell_type": "code",
   "execution_count": 3,
   "id": "51a1e15d",
   "metadata": {},
   "outputs": [],
   "source": [
    "\n",
    "# for i in tqdm(range(900)):\n",
    "#     file_x=f'train_pre/train_pre_x{i}.pkl'\n",
    "#     file_y=f'train_pre/train_pre_y{i}.pkl'\n",
    "#     if i==0:\n",
    "#         data_x=sparse.coo_matrix(pd.read_pickle(file_x))\n",
    "#         data_y=data_y+pd.read_pickle(file_y)\n",
    "#     else:\n",
    "#         x=sparse.coo_matrix(pd.read_pickle(file_x))\n",
    "#         data_x=sparse.vstack([data_x,x])\n",
    "#         data_y=data_y+pd.read_pickle(file_y)"
   ]
  },
  {
   "cell_type": "code",
   "execution_count": 4,
   "id": "b37df89c",
   "metadata": {},
   "outputs": [],
   "source": [
    "k=3"
   ]
  },
  {
   "cell_type": "code",
   "execution_count": 5,
   "id": "3600af51",
   "metadata": {},
   "outputs": [],
   "source": [
    "# for i in tqdm(range(k)):\n",
    "#     file_x=f'train_pre/train_pre_x{i}.pkl'\n",
    "#     datas=pd.read_pickle(file_x)\n",
    "#     if i==0:\n",
    "#         data_x=datas\n",
    "#     else:\n",
    "#         data_x=[*data_x, *datas]"
   ]
  },
  {
   "cell_type": "code",
   "execution_count": 5,
   "id": "2b46edb6",
   "metadata": {},
   "outputs": [
    {
     "name": "stderr",
     "output_type": "stream",
     "text": [
      "100%|████████████████████████████████████████████████████████████████████████████████████| 3/3 [00:03<00:00,  1.19s/it]\n"
     ]
    }
   ],
   "source": [
    "for i in tqdm(range(k)):\n",
    "    file_x=f'train_pre/train_pre_x{i}.pkl'\n",
    "    datas=pd.DataFrame(pd.read_pickle(file_x))\n",
    "    if i==0:\n",
    "        data_x=datas\n",
    "    else:\n",
    "        data_x=pd.concat([data_x,datas])"
   ]
  },
  {
   "cell_type": "code",
   "execution_count": 6,
   "id": "00c91cac",
   "metadata": {},
   "outputs": [],
   "source": [
    "data_x.to_csv('train_pre2.csv')"
   ]
  },
  {
   "cell_type": "code",
   "execution_count": 7,
   "id": "b8f40686",
   "metadata": {},
   "outputs": [],
   "source": [
    "# data_x=[]\n",
    "# for i in tqdm(range(k)):\n",
    "#     file_x=f'train_pre/train_pre_x{i}.pkl'\n",
    "#     datas=pd.read_pickle(file_x)\n",
    "#     for data in datas:\n",
    "#         data_x.append(np.array(data))"
   ]
  },
  {
   "cell_type": "code",
   "execution_count": 8,
   "id": "58b90ea6",
   "metadata": {
    "scrolled": false
   },
   "outputs": [],
   "source": [
    "# %%time\n",
    "# n=0\n",
    "# flag=0\n",
    "# for i in tqdm(range(k)):\n",
    "#     file_x=f'train_pre/train_pre_x{i}.pkl'\n",
    "#     datas=pd.read_pickle(file_x)\n",
    "#     if flag==0:\n",
    "#         data_x=datas\n",
    "#         flag=1\n",
    "#     else:\n",
    "#         data_x=[*data_x, *datas]\n",
    "#     if i%100==0:\n",
    "#         file=f'train_pre_2/train_pre_x{n}.pkl'\n",
    "#         with open(file, 'wb') as f:\n",
    "#             pickle.dump(data_x, f, protocol=pickle.HIGHEST_PROTOCOL)\n",
    "#         flag=0\n",
    "#         n=n+1\n"
   ]
  },
  {
   "cell_type": "code",
   "execution_count": 9,
   "id": "42706451",
   "metadata": {},
   "outputs": [],
   "source": [
    "# %%time\n",
    "# data_x=np.array(data_x)"
   ]
  },
  {
   "cell_type": "code",
   "execution_count": 10,
   "id": "b3474646",
   "metadata": {},
   "outputs": [],
   "source": [
    "# # input_path=Path('C:\\')\n",
    "# file='train_prex.npy'\n",
    "# np.save(file, data_x)"
   ]
  },
  {
   "cell_type": "code",
   "execution_count": 11,
   "id": "77f8d07b",
   "metadata": {},
   "outputs": [],
   "source": [
    "# import numpy as np\n",
    "# file='train_prex.npy'\n",
    "# np.load(file).shape"
   ]
  },
  {
   "cell_type": "code",
   "execution_count": 7,
   "id": "208a5bce",
   "metadata": {},
   "outputs": [
    {
     "name": "stderr",
     "output_type": "stream",
     "text": [
      "100%|███████████████████████████████████████████████████████████████████████████████████| 3/3 [00:00<00:00, 122.84it/s]\n"
     ]
    }
   ],
   "source": [
    "\n",
    "for i in tqdm(range(k)):\n",
    "    file_y=f'train_pre/train_pre_y{i}.pkl'\n",
    "    if i==0:\n",
    "        data_y=pd.read_pickle(file_y)\n",
    "    else:\n",
    "        data_y=data_y+pd.read_pickle(file_y)"
   ]
  },
  {
   "cell_type": "code",
   "execution_count": 10,
   "id": "5ee6c2b5",
   "metadata": {},
   "outputs": [],
   "source": [
    "pd.DataFrame(data_y).to_csv('train_y.csv')"
   ]
  },
  {
   "cell_type": "code",
   "execution_count": 13,
   "id": "13673cc2",
   "metadata": {},
   "outputs": [],
   "source": [
    "# file=f'train_pre_2/train_prey.pkl'\n",
    "# with open(file, 'wb') as f:\n",
    "#     pickle.dump(data_y, f, protocol=pickle.HIGHEST_PROTOCOL)"
   ]
  },
  {
   "cell_type": "code",
   "execution_count": 14,
   "id": "858c2a64",
   "metadata": {},
   "outputs": [],
   "source": [
    "# data_x=[*data_x, *data_x, *data_x, *data_x, *data_x,*data_x, *data_x, *data_x, *data_x, *data_x]\n",
    "# data_y=[*data_y, *data_y, *data_y, *data_y, *data_y,*data_y, *data_y, *data_y, *data_y, *data_y]"
   ]
  },
  {
   "cell_type": "code",
   "execution_count": 15,
   "id": "506a8a2b",
   "metadata": {},
   "outputs": [],
   "source": [
    "n=len(data_y)"
   ]
  },
  {
   "cell_type": "code",
   "execution_count": 16,
   "id": "aee580ba",
   "metadata": {},
   "outputs": [],
   "source": [
    "# data_y=np.array(data_y)"
   ]
  },
  {
   "cell_type": "code",
   "execution_count": 17,
   "id": "a144eee5",
   "metadata": {},
   "outputs": [],
   "source": [
    "# assert data_y.shape[0]==data_x.shape[0]"
   ]
  },
  {
   "cell_type": "code",
   "execution_count": 18,
   "id": "3a1e7d6f",
   "metadata": {},
   "outputs": [],
   "source": [
    "# import random\n",
    "\n",
    "# r_list =[i for i in range(len(data_y))]\n",
    "# random.shuffle(r_list)\n",
    "# cut_point=int(len(data_y)*0.7)\n",
    "# train_index=r_list[:cut_point]\n",
    "# test_index=r_list[cut_point:]"
   ]
  },
  {
   "cell_type": "code",
   "execution_count": 19,
   "id": "7e7a0abc",
   "metadata": {},
   "outputs": [],
   "source": [
    "# %%time\n",
    "# X_train=data_x[train_index]\n",
    "# Y_train=data_y[train_index]\n",
    "# X_test=data_x[test_index]\n",
    "# Y_test=data_y[test_index]"
   ]
  },
  {
   "cell_type": "code",
   "execution_count": 20,
   "id": "9ffe24d0",
   "metadata": {},
   "outputs": [
    {
     "name": "stdout",
     "output_type": "stream",
     "text": [
      "CPU times: total: 109 ms\n",
      "Wall time: 135 ms\n"
     ]
    }
   ],
   "source": [
    "%%time\n",
    "# X_train, X_test, Y_train, Y_test = train_test_split(data_x, data_y, test_size=0.3, random_state=42)\n",
    "cut_point=int(n*0.9)\n",
    "X_train=data_x[0:cut_point]\n",
    "Y_train=data_y[0:cut_point]\n",
    "X_test=data_x[cut_point:]\n",
    "Y_test=data_y[cut_point:]"
   ]
  },
  {
   "cell_type": "code",
   "execution_count": 21,
   "id": "212dfdc0",
   "metadata": {},
   "outputs": [],
   "source": [
    "dtrain = lgb.Dataset(X_train, Y_train, feature_name=f_cols)\n",
    "dvalid = lgb.Dataset(X_test, Y_test, feature_name=f_cols)  "
   ]
  },
  {
   "cell_type": "code",
   "execution_count": 22,
   "id": "4fa57099",
   "metadata": {},
   "outputs": [
    {
     "name": "stdout",
     "output_type": "stream",
     "text": [
      "[LightGBM] [Info] Number of positive: 35264969, number of negative: 18358657\n",
      "[LightGBM] [Warning] Auto-choosing row-wise multi-threading, the overhead of testing was 1.767479 seconds.\n",
      "You can set `force_row_wise=true` to remove the overhead.\n",
      "And if memory is not enough, you can set `force_col_wise=true`.\n",
      "[LightGBM] [Info] Total Bins 7314\n",
      "[LightGBM] [Info] Number of data points in the train set: 53623626, number of used features: 55\n",
      "[LightGBM] [Info] [binary:BoostFromScore]: pavg=0.657639 -> initscore=0.652789\n",
      "[LightGBM] [Info] Start training from score 0.652789\n",
      "Training until validation scores don't improve for 100 rounds\n",
      "[100]\ttraining's binary_logloss: 0.525571\tvalid_1's binary_logloss: 0.527472\n",
      "[200]\ttraining's binary_logloss: 0.521701\tvalid_1's binary_logloss: 0.524095\n",
      "[300]\ttraining's binary_logloss: 0.519812\tvalid_1's binary_logloss: 0.522623\n",
      "[400]\ttraining's binary_logloss: 0.518641\tvalid_1's binary_logloss: 0.521863\n",
      "[500]\ttraining's binary_logloss: 0.517738\tvalid_1's binary_logloss: 0.52134\n",
      "[600]\ttraining's binary_logloss: 0.516966\tvalid_1's binary_logloss: 0.520984\n",
      "[700]\ttraining's binary_logloss: 0.516287\tvalid_1's binary_logloss: 0.520687\n",
      "[800]\ttraining's binary_logloss: 0.51566\tvalid_1's binary_logloss: 0.520429\n",
      "[900]\ttraining's binary_logloss: 0.515063\tvalid_1's binary_logloss: 0.52022\n",
      "[1000]\ttraining's binary_logloss: 0.514533\tvalid_1's binary_logloss: 0.520074\n",
      "[1100]\ttraining's binary_logloss: 0.514024\tvalid_1's binary_logloss: 0.519937\n",
      "[1200]\ttraining's binary_logloss: 0.513523\tvalid_1's binary_logloss: 0.519804\n",
      "[1300]\ttraining's binary_logloss: 0.51303\tvalid_1's binary_logloss: 0.51966\n",
      "[1400]\ttraining's binary_logloss: 0.512563\tvalid_1's binary_logloss: 0.519557\n",
      "[1500]\ttraining's binary_logloss: 0.512117\tvalid_1's binary_logloss: 0.519486\n",
      "[1600]\ttraining's binary_logloss: 0.511687\tvalid_1's binary_logloss: 0.519412\n",
      "[1700]\ttraining's binary_logloss: 0.51129\tvalid_1's binary_logloss: 0.519368\n",
      "[1800]\ttraining's binary_logloss: 0.510853\tvalid_1's binary_logloss: 0.519298\n",
      "[1900]\ttraining's binary_logloss: 0.510453\tvalid_1's binary_logloss: 0.519264\n",
      "[2000]\ttraining's binary_logloss: 0.510068\tvalid_1's binary_logloss: 0.519227\n",
      "[2100]\ttraining's binary_logloss: 0.509664\tvalid_1's binary_logloss: 0.519166\n",
      "[2200]\ttraining's binary_logloss: 0.509276\tvalid_1's binary_logloss: 0.519119\n",
      "[2300]\ttraining's binary_logloss: 0.508876\tvalid_1's binary_logloss: 0.519072\n",
      "[2400]\ttraining's binary_logloss: 0.508475\tvalid_1's binary_logloss: 0.519013\n",
      "[2500]\ttraining's binary_logloss: 0.508089\tvalid_1's binary_logloss: 0.518973\n",
      "[2600]\ttraining's binary_logloss: 0.507708\tvalid_1's binary_logloss: 0.518932\n",
      "[2700]\ttraining's binary_logloss: 0.507337\tvalid_1's binary_logloss: 0.518899\n",
      "[2800]\ttraining's binary_logloss: 0.506985\tvalid_1's binary_logloss: 0.518872\n",
      "[2900]\ttraining's binary_logloss: 0.506632\tvalid_1's binary_logloss: 0.518864\n",
      "[3000]\ttraining's binary_logloss: 0.506269\tvalid_1's binary_logloss: 0.518836\n",
      "[3100]\ttraining's binary_logloss: 0.505911\tvalid_1's binary_logloss: 0.518802\n",
      "[3200]\ttraining's binary_logloss: 0.505548\tvalid_1's binary_logloss: 0.51878\n",
      "[3300]\ttraining's binary_logloss: 0.505205\tvalid_1's binary_logloss: 0.518766\n",
      "[3400]\ttraining's binary_logloss: 0.504867\tvalid_1's binary_logloss: 0.518748\n",
      "[3500]\ttraining's binary_logloss: 0.504515\tvalid_1's binary_logloss: 0.518714\n",
      "[3600]\ttraining's binary_logloss: 0.504184\tvalid_1's binary_logloss: 0.518707\n",
      "[3700]\ttraining's binary_logloss: 0.503843\tvalid_1's binary_logloss: 0.518687\n",
      "[3800]\ttraining's binary_logloss: 0.503528\tvalid_1's binary_logloss: 0.518683\n",
      "[3900]\ttraining's binary_logloss: 0.503188\tvalid_1's binary_logloss: 0.518672\n",
      "[4000]\ttraining's binary_logloss: 0.502841\tvalid_1's binary_logloss: 0.518653\n",
      "[4100]\ttraining's binary_logloss: 0.502514\tvalid_1's binary_logloss: 0.518644\n",
      "[4200]\ttraining's binary_logloss: 0.502199\tvalid_1's binary_logloss: 0.518634\n",
      "[4300]\ttraining's binary_logloss: 0.501885\tvalid_1's binary_logloss: 0.518627\n",
      "[4400]\ttraining's binary_logloss: 0.501571\tvalid_1's binary_logloss: 0.518624\n",
      "[4500]\ttraining's binary_logloss: 0.501242\tvalid_1's binary_logloss: 0.518611\n",
      "[4600]\ttraining's binary_logloss: 0.500928\tvalid_1's binary_logloss: 0.518601\n",
      "[4700]\ttraining's binary_logloss: 0.500605\tvalid_1's binary_logloss: 0.518593\n",
      "[4800]\ttraining's binary_logloss: 0.500283\tvalid_1's binary_logloss: 0.518573\n",
      "[4900]\ttraining's binary_logloss: 0.499952\tvalid_1's binary_logloss: 0.518565\n",
      "[5000]\ttraining's binary_logloss: 0.49964\tvalid_1's binary_logloss: 0.518562\n",
      "Early stopping, best iteration is:\n",
      "[4987]\ttraining's binary_logloss: 0.499678\tvalid_1's binary_logloss: 0.51856\n",
      "CPU times: total: 1d 5h 45min 3s\n",
      "Wall time: 2h 1min 20s\n"
     ]
    }
   ],
   "source": [
    "%%time\n",
    "params = {\n",
    "        'objective': 'binary',\n",
    "        'lambda_l1': 9.5, \n",
    "        'lambda_l2': 0.005, \n",
    "        'num_leaves': 256, \n",
    "        'feature_fraction': 0.8, \n",
    "        'bagging_fraction': 0.9, \n",
    "        'bagging_freq': 6,\n",
    "        'min_child_samples': 20\n",
    "        #,'device':'gpu'\n",
    "    }\n",
    "# callbacks=[lgb.]\n",
    "lgb_model = lgb.train(params,\n",
    "                    #{'objective': 'binary'}, \n",
    "                    dtrain,\n",
    "                    valid_sets=[dtrain, dvalid],\n",
    "                    num_boost_round=10000\n",
    "                    ,callbacks=[lgb.early_stopping(100),lgb.log_evaluation(100)]\n",
    "                    #,categorical_feature = ['content_id','part']\n",
    "                )\n"
   ]
  },
  {
   "cell_type": "code",
   "execution_count": 23,
   "id": "428355e6",
   "metadata": {},
   "outputs": [],
   "source": [
    "# clf = lgb.LGBMClassifier(boosting_type='gbdt', class_weight=None, colsample_bytree=1.0,\n",
    "#                importance_type='split', learning_rate=0.1, max_depth=-1,\n",
    "#                min_child_samples=10, min_split_gain=0.0, n_estimators=200, n_jobs=-1, objective=\"binary\",\n",
    "#                random_state=42, reg_alpha = 0.2, reg_lambda = 0.6, \n",
    "#                          subsample=1.0, num_leaves = 300, min_child_weight = 0.03)\n",
    "# clf.fit(X_train, Y_train)\n",
    "# pred = clf.predict(X_test)\n",
    "# accuracy_score(pred, Y_test)"
   ]
  },
  {
   "cell_type": "code",
   "execution_count": 24,
   "id": "4f7734c5",
   "metadata": {},
   "outputs": [
    {
     "name": "stdout",
     "output_type": "stream",
     "text": [
      "auc: 0.7865280052314291\n"
     ]
    }
   ],
   "source": [
    "lgb_result = lgb_model.predict(X_test, num_iteration=lgb_model.best_iteration)\n",
    "print('auc:', roc_auc_score(Y_test,lgb_result))\n",
    "# f_imp=dict(zip(f_cols,lgb_model.feature_importance().tolist()))\n",
    "# sorted(f_imp.items(),key=(lambda x: x[1]),reverse=True)\n"
   ]
  },
  {
   "cell_type": "code",
   "execution_count": 25,
   "id": "99fd8a12",
   "metadata": {},
   "outputs": [
    {
     "data": {
      "text/plain": [
       "<AxesSubplot:title={'center':'Feature importance'}, xlabel='Feature importance', ylabel='Features'>"
      ]
     },
     "execution_count": 25,
     "metadata": {},
     "output_type": "execute_result"
    },
    {
     "data": {
      "image/png": "[encoded data removed]",
      "text/plain": [
       "<Figure size 504x1080 with 1 Axes>"
      ]
     },
     "metadata": {
      "needs_background": "light"
     },
     "output_type": "display_data"
    }
   ],
   "source": [
    "rcParams['figure.figsize'] = 7, 15\n",
    "lgb.plot_importance(lgb_model)"
   ]
  },
  {
   "cell_type": "code",
   "execution_count": 26,
   "id": "cb7e5368",
   "metadata": {},
   "outputs": [
    {
     "name": "stderr",
     "output_type": "stream",
     "text": [
      "100%|██████████████████████████████████████████████████████████████████████████████████| 10/10 [00:06<00:00,  1.61it/s]\n",
      "100%|██████████████████████████████████████████████████████████████████████████████████| 10/10 [00:00<00:00, 88.66it/s]\n"
     ]
    },
    {
     "name": "stdout",
     "output_type": "stream",
     "text": [
      "auc: 0.7868364829696995\n"
     ]
    }
   ],
   "source": [
    "k=10\n",
    "for i in tqdm(range(k)):\n",
    "    file_x=f'train_pre/train_pre_x{i+600}.pkl'\n",
    "    datas=pd.read_pickle(file_x)\n",
    "    if i==0:\n",
    "        val_x=datas\n",
    "    else:\n",
    "        val_x=[*val_x, *datas]\n",
    "\n",
    "for i in tqdm(range(k)):\n",
    "    file_y=f'train_pre/train_pre_y{i+600}.pkl'\n",
    "    if i==0:\n",
    "        val_y=pd.read_pickle(file_y)\n",
    "    else:\n",
    "        val_y=val_y+pd.read_pickle(file_y)\n",
    "val_x=np.array(val_x)\n",
    "val_y=np.array(val_y)\n",
    "# X, X_val, Y, Y_val = train_test_split(data_x, data_y, test_size=0.3, random_state=42)\n",
    "lgb_val = lgb_model.predict(val_x, num_iteration=lgb_model.best_iteration)\n",
    "print('auc:', roc_auc_score(val_y,lgb_val))"
   ]
  }
 ],
 "metadata": {
  "kernelspec": {
   "display_name": "Python 3 (ipykernel)",
   "language": "python",
   "name": "python3"
  },
  "language_info": {
   "codemirror_mode": {
    "name": "ipython",
    "version": 3
   },
   "file_extension": ".py",
   "mimetype": "text/x-python",
   "name": "python",
   "nbconvert_exporter": "python",
   "pygments_lexer": "ipython3",
   "version": "3.9.12"
  }
 },
 "nbformat": 4,
 "nbformat_minor": 5
}
