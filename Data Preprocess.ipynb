{
 "cells": [
  {
   "cell_type": "code",
   "execution_count": 1,
   "id": "a10a888a",
   "metadata": {},
   "outputs": [],
   "source": [
    "import gc\n",
    "import joblib\n",
    "import numpy as np\n",
    "import pandas as pd\n",
    "import pickle\n",
    "import enum\n",
    "\n",
    "from collections import defaultdict\n",
    "from concurrent.futures import ProcessPoolExecutor\n",
    "from pathlib import Path\n",
    "from scipy.sparse import coo_matrix, dok_matrix, lil_matrix, csr_matrix, bsr_matrix\n",
    "from tqdm import tqdm\n",
    "\n",
    "\n",
    "\n",
    "from sklearn.model_selection import train_test_split\n",
    "import lightgbm as lgb\n",
    "from collections import deque\n",
    "import json\n",
    "\n",
    "\n",
    "from pylab import rcParams\n",
    "from sklearn.metrics import roc_auc_score\n",
    "from scipy import sparse\n",
    "from sklearn.model_selection import train_test_split\n",
    "from tqdm import tqdm\n",
    "from sklearn.metrics import accuracy_score"
   ]
  },
  {
   "cell_type": "code",
   "execution_count": 2,
   "id": "b5211d4a",
   "metadata": {},
   "outputs": [],
   "source": [
    "#change the input path\n",
    "input_path=Path('C:\\\\Users\\\\luxin\\\\iCloudDrive\\\\UR\\\\Machine learning\\\\final\\\\riiid-test-answer-prediction')"
   ]
  },
  {
   "cell_type": "code",
   "execution_count": 3,
   "id": "d1170d5f",
   "metadata": {},
   "outputs": [
    {
     "data": {
      "text/html": [
       "<div>\n",
       "<style scoped>\n",
       "    .dataframe tbody tr th:only-of-type {\n",
       "        vertical-align: middle;\n",
       "    }\n",
       "\n",
       "    .dataframe tbody tr th {\n",
       "        vertical-align: top;\n",
       "    }\n",
       "\n",
       "    .dataframe thead th {\n",
       "        text-align: right;\n",
       "    }\n",
       "</style>\n",
       "<table border=\"1\" class=\"dataframe\">\n",
       "  <thead>\n",
       "    <tr style=\"text-align: right;\">\n",
       "      <th></th>\n",
       "      <th>question_id</th>\n",
       "      <th>bundle_id</th>\n",
       "      <th>correct_answer</th>\n",
       "      <th>part</th>\n",
       "      <th>tags</th>\n",
       "      <th>tag_0</th>\n",
       "      <th>tag_1</th>\n",
       "      <th>tag_2</th>\n",
       "      <th>tag_3</th>\n",
       "      <th>tag_4</th>\n",
       "      <th>tag_5</th>\n",
       "      <th>tag</th>\n",
       "      <th>tag_num</th>\n",
       "    </tr>\n",
       "  </thead>\n",
       "  <tbody>\n",
       "    <tr>\n",
       "      <th>0</th>\n",
       "      <td>0</td>\n",
       "      <td>0</td>\n",
       "      <td>0</td>\n",
       "      <td>1</td>\n",
       "      <td>51 131 162 38</td>\n",
       "      <td>51</td>\n",
       "      <td>131</td>\n",
       "      <td>162</td>\n",
       "      <td>38</td>\n",
       "      <td>-1</td>\n",
       "      <td>-1</td>\n",
       "      <td>[51, 131, 162, 38]</td>\n",
       "      <td>4</td>\n",
       "    </tr>\n",
       "    <tr>\n",
       "      <th>1</th>\n",
       "      <td>1</td>\n",
       "      <td>1</td>\n",
       "      <td>1</td>\n",
       "      <td>1</td>\n",
       "      <td>131 36 81</td>\n",
       "      <td>131</td>\n",
       "      <td>36</td>\n",
       "      <td>81</td>\n",
       "      <td>-1</td>\n",
       "      <td>-1</td>\n",
       "      <td>-1</td>\n",
       "      <td>[131, 36, 81]</td>\n",
       "      <td>3</td>\n",
       "    </tr>\n",
       "    <tr>\n",
       "      <th>2</th>\n",
       "      <td>2</td>\n",
       "      <td>2</td>\n",
       "      <td>0</td>\n",
       "      <td>1</td>\n",
       "      <td>131 101 162 92</td>\n",
       "      <td>131</td>\n",
       "      <td>101</td>\n",
       "      <td>162</td>\n",
       "      <td>92</td>\n",
       "      <td>-1</td>\n",
       "      <td>-1</td>\n",
       "      <td>[131, 101, 162, 92]</td>\n",
       "      <td>4</td>\n",
       "    </tr>\n",
       "    <tr>\n",
       "      <th>3</th>\n",
       "      <td>3</td>\n",
       "      <td>3</td>\n",
       "      <td>0</td>\n",
       "      <td>1</td>\n",
       "      <td>131 149 162 29</td>\n",
       "      <td>131</td>\n",
       "      <td>149</td>\n",
       "      <td>162</td>\n",
       "      <td>29</td>\n",
       "      <td>-1</td>\n",
       "      <td>-1</td>\n",
       "      <td>[131, 149, 162, 29]</td>\n",
       "      <td>4</td>\n",
       "    </tr>\n",
       "    <tr>\n",
       "      <th>4</th>\n",
       "      <td>4</td>\n",
       "      <td>4</td>\n",
       "      <td>3</td>\n",
       "      <td>1</td>\n",
       "      <td>131 5 162 38</td>\n",
       "      <td>131</td>\n",
       "      <td>5</td>\n",
       "      <td>162</td>\n",
       "      <td>38</td>\n",
       "      <td>-1</td>\n",
       "      <td>-1</td>\n",
       "      <td>[131, 5, 162, 38]</td>\n",
       "      <td>4</td>\n",
       "    </tr>\n",
       "  </tbody>\n",
       "</table>\n",
       "</div>"
      ],
      "text/plain": [
       "   question_id  bundle_id  correct_answer  part            tags tag_0 tag_1  \\\n",
       "0            0          0               0     1   51 131 162 38    51   131   \n",
       "1            1          1               1     1       131 36 81   131    36   \n",
       "2            2          2               0     1  131 101 162 92   131   101   \n",
       "3            3          3               0     1  131 149 162 29   131   149   \n",
       "4            4          4               3     1    131 5 162 38   131     5   \n",
       "\n",
       "  tag_2 tag_3 tag_4 tag_5                  tag  tag_num  \n",
       "0   162    38    -1    -1   [51, 131, 162, 38]        4  \n",
       "1    81    -1    -1    -1        [131, 36, 81]        3  \n",
       "2   162    92    -1    -1  [131, 101, 162, 92]        4  \n",
       "3   162    29    -1    -1  [131, 149, 162, 29]        4  \n",
       "4   162    38    -1    -1    [131, 5, 162, 38]        4  "
      ]
     },
     "execution_count": 3,
     "metadata": {},
     "output_type": "execute_result"
    }
   ],
   "source": [
    "q_df=pd.read_csv(input_path/'questions.csv')\n",
    "q_df.fillna('-1')\n",
    "\n",
    "assert len(q_df.question_id.unique())==len(q_df)\n",
    "q_df['tags']=q_df['tags'].astype(str)\n",
    "tag_len=q_df['tags'].apply(lambda x: len(x.split(' '))).max()\n",
    "tags_df=q_df.tags.str.split(' ',expand=True).fillna(-1)\n",
    "for i in range(tag_len):\n",
    "    c_name='tag_'+str(i)\n",
    "    q_df[c_name]=tags_df[i]\n",
    "q_df['tag']=q_df['tags'].apply(lambda x: str(x).split(' '))\n",
    "q_df['tag_num']=q_df['tag'].apply(lambda x: len(x))\n",
    "q_df.head()"
   ]
  },
  {
   "cell_type": "code",
   "execution_count": 4,
   "id": "9093f09e",
   "metadata": {},
   "outputs": [],
   "source": [
    "train_df=pd.read_csv(input_path/'train.csv')\n"
   ]
  },
  {
   "cell_type": "code",
   "execution_count": 5,
   "id": "2e544145",
   "metadata": {},
   "outputs": [],
   "source": [
    "train_q_df = train_df[train_df['content_type_id'] == 0]\n",
    "c_r=train_q_df[['content_id','answered_correctly']].groupby('content_id').sum()/train_q_df[['content_id','answered_correctly']].groupby('content_id').count()#correct rate\n",
    "c_r.columns=['c_rate']\n",
    "c_r['id']=c_r.index\n",
    "c_r['num']=train_q_df[['content_id','answered_correctly']].groupby('content_id').count().values\n",
    "c_r['c_num']=train_q_df[['content_id','answered_correctly']].groupby('content_id').sum().values"
   ]
  },
  {
   "cell_type": "code",
   "execution_count": 6,
   "id": "b98abbf9",
   "metadata": {},
   "outputs": [],
   "source": [
    "tags=c_r.join(q_df)[['c_rate', 'num', 'c_num']].fillna('-1').values\n",
    "tag_count=defaultdict(lambda:0)\n",
    "for tag in tags.flat:\n",
    "    if tag!='nan' and int(tag)>0:\n",
    "        tag_count[tag]=tag_count[tag]+1"
   ]
  },
  {
   "cell_type": "code",
   "execution_count": 7,
   "id": "1a6937f8",
   "metadata": {},
   "outputs": [],
   "source": [
    "q_df=q_df.join(c_r)"
   ]
  },
  {
   "cell_type": "code",
   "execution_count": 8,
   "id": "e6a4b312",
   "metadata": {},
   "outputs": [],
   "source": [
    "q_data=q_df[['tag_0','tag_1','tag_2','tag_3','tag_4','tag_5','c_rate','part']].fillna('0')"
   ]
  },
  {
   "cell_type": "code",
   "execution_count": 9,
   "id": "ab8fb329",
   "metadata": {},
   "outputs": [
    {
     "data": {
      "text/plain": [
       "array([ 1.92069438,  2.5232192 ,  3.26273156,  4.22884457,  6.18852657,\n",
       "       12.75751224,  1.76641209,  1.65510264])"
      ]
     },
     "execution_count": 9,
     "metadata": {},
     "output_type": "execute_result"
    }
   ],
   "source": [
    "x=q_data\n",
    "from sklearn import preprocessing\n",
    "t= preprocessing.StandardScaler().fit(x)\n",
    "x=t.transform(x)\n",
    "x.max(axis=0)"
   ]
  },
  {
   "cell_type": "code",
   "execution_count": 10,
   "id": "0dfd2742",
   "metadata": {},
   "outputs": [],
   "source": [
    "from sklearn.cluster import KMeans\n",
    "kmeans = KMeans(n_clusters=21, random_state=0).fit(x)\n",
    "label=kmeans.labels_"
   ]
  },
  {
   "cell_type": "code",
   "execution_count": 11,
   "id": "123b4360",
   "metadata": {},
   "outputs": [],
   "source": [
    "q_df['tag_group']=kmeans.labels_"
   ]
  },
  {
   "cell_type": "code",
   "execution_count": 12,
   "id": "3271ee27",
   "metadata": {},
   "outputs": [
    {
     "data": {
      "image/png": "[encoded data removed]",
      "text/plain": [
       "<Figure size 576x576 with 1 Axes>"
      ]
     },
     "metadata": {
      "needs_background": "light"
     },
     "output_type": "display_data"
    }
   ],
   "source": [
    "from sklearn.datasets import load_digits\n",
    "from sklearn.decomposition import PCA\n",
    "from sklearn.cluster import KMeans\n",
    "import numpy as np\n",
    "import matplotlib.pyplot as plt\n",
    "pca = PCA(3)\n",
    "\n",
    "#Transform the data\n",
    "df = pca.fit_transform(q_data)\n",
    "fig = plt.figure(figsize=(8,8))\n",
    "ax = fig.add_subplot(projection='3d')\n",
    "for i in range(22):\n",
    "    data=df[label==i]\n",
    "    ax.scatter(data[:,2],data[:,0],data[:,1])\n",
    "plt.savefig('taggroup.png')"
   ]
  },
  {
   "cell_type": "code",
   "execution_count": 13,
   "id": "306ec863",
   "metadata": {},
   "outputs": [],
   "source": [
    "q_df.to_csv('question_pre.csv')"
   ]
  },
  {
   "cell_type": "code",
   "execution_count": 14,
   "id": "bdc15bca",
   "metadata": {},
   "outputs": [],
   "source": [
    "#change the input path\n",
    "input_path=Path('C:\\\\Users\\\\luxin\\\\iCloudDrive\\\\UR\\\\Machine learning\\\\final\\\\riiid-test-answer-prediction')"
   ]
  },
  {
   "cell_type": "markdown",
   "id": "2e762a78",
   "metadata": {},
   "source": [
    "## Public functions"
   ]
  },
  {
   "cell_type": "code",
   "execution_count": 15,
   "id": "4f38c189",
   "metadata": {},
   "outputs": [],
   "source": [
    "def col_cat(df,col):\n",
    "    code_dict={}\n",
    "    for label,value in enumerate(df[col].unique()):\n",
    "        label=label+1\n",
    "        code_dict[value]=label  \n",
    "    return df[col].apply(lambda x: code_dict[x])"
   ]
  },
  {
   "cell_type": "code",
   "execution_count": 16,
   "id": "3b2402c3",
   "metadata": {},
   "outputs": [],
   "source": [
    "def df_dict(df,id_col,cols,data_dict):\n",
    "    for col in cols:\n",
    "        data_dict[col]=dict()\n",
    "        for i in range(len(df)):\n",
    "            data_dict[col][df[id_col][i]]=df[col][i]\n",
    "    "
   ]
  },
  {
   "cell_type": "markdown",
   "id": "8912b841",
   "metadata": {},
   "source": [
    "## Questions"
   ]
  },
  {
   "cell_type": "code",
   "execution_count": 17,
   "id": "cc21e48c",
   "metadata": {},
   "outputs": [
    {
     "data": {
      "text/html": [
       "<div>\n",
       "<style scoped>\n",
       "    .dataframe tbody tr th:only-of-type {\n",
       "        vertical-align: middle;\n",
       "    }\n",
       "\n",
       "    .dataframe tbody tr th {\n",
       "        vertical-align: top;\n",
       "    }\n",
       "\n",
       "    .dataframe thead th {\n",
       "        text-align: right;\n",
       "    }\n",
       "</style>\n",
       "<table border=\"1\" class=\"dataframe\">\n",
       "  <thead>\n",
       "    <tr style=\"text-align: right;\">\n",
       "      <th></th>\n",
       "      <th>question_id</th>\n",
       "      <th>bundle_id</th>\n",
       "      <th>correct_answer</th>\n",
       "      <th>part</th>\n",
       "      <th>tags</th>\n",
       "      <th>tag_0</th>\n",
       "      <th>tag_1</th>\n",
       "      <th>tag_2</th>\n",
       "      <th>tag_3</th>\n",
       "      <th>tag_4</th>\n",
       "      <th>tag_5</th>\n",
       "      <th>tag</th>\n",
       "      <th>tag_num</th>\n",
       "      <th>c_rate</th>\n",
       "      <th>id</th>\n",
       "      <th>num</th>\n",
       "      <th>c_num</th>\n",
       "      <th>tag_group</th>\n",
       "      <th>qp</th>\n",
       "    </tr>\n",
       "  </thead>\n",
       "  <tbody>\n",
       "    <tr>\n",
       "      <th>0</th>\n",
       "      <td>0</td>\n",
       "      <td>0</td>\n",
       "      <td>0</td>\n",
       "      <td>1</td>\n",
       "      <td>131 162 38 51</td>\n",
       "      <td>131</td>\n",
       "      <td>162</td>\n",
       "      <td>38</td>\n",
       "      <td>51</td>\n",
       "      <td>-1</td>\n",
       "      <td>-1</td>\n",
       "      <td>[131, 162, 38, 51]</td>\n",
       "      <td>4</td>\n",
       "      <td>0.907721</td>\n",
       "      <td>0</td>\n",
       "      <td>6903</td>\n",
       "      <td>6266</td>\n",
       "      <td>1</td>\n",
       "      <td>0.000069</td>\n",
       "    </tr>\n",
       "    <tr>\n",
       "      <th>1</th>\n",
       "      <td>1</td>\n",
       "      <td>1</td>\n",
       "      <td>1</td>\n",
       "      <td>1</td>\n",
       "      <td>131 36 81</td>\n",
       "      <td>131</td>\n",
       "      <td>36</td>\n",
       "      <td>81</td>\n",
       "      <td>-1</td>\n",
       "      <td>-1</td>\n",
       "      <td>-1</td>\n",
       "      <td>[131, 36, 81]</td>\n",
       "      <td>3</td>\n",
       "      <td>0.890646</td>\n",
       "      <td>1</td>\n",
       "      <td>7398</td>\n",
       "      <td>6589</td>\n",
       "      <td>20</td>\n",
       "      <td>0.000074</td>\n",
       "    </tr>\n",
       "    <tr>\n",
       "      <th>2</th>\n",
       "      <td>2</td>\n",
       "      <td>2</td>\n",
       "      <td>0</td>\n",
       "      <td>1</td>\n",
       "      <td>101 131 162 92</td>\n",
       "      <td>101</td>\n",
       "      <td>131</td>\n",
       "      <td>162</td>\n",
       "      <td>92</td>\n",
       "      <td>-1</td>\n",
       "      <td>-1</td>\n",
       "      <td>[101, 131, 162, 92]</td>\n",
       "      <td>4</td>\n",
       "      <td>0.554281</td>\n",
       "      <td>2</td>\n",
       "      <td>44905</td>\n",
       "      <td>24890</td>\n",
       "      <td>17</td>\n",
       "      <td>0.000452</td>\n",
       "    </tr>\n",
       "    <tr>\n",
       "      <th>3</th>\n",
       "      <td>3</td>\n",
       "      <td>3</td>\n",
       "      <td>0</td>\n",
       "      <td>1</td>\n",
       "      <td>131 149 162 29</td>\n",
       "      <td>131</td>\n",
       "      <td>149</td>\n",
       "      <td>162</td>\n",
       "      <td>29</td>\n",
       "      <td>-1</td>\n",
       "      <td>-1</td>\n",
       "      <td>[131, 149, 162, 29]</td>\n",
       "      <td>4</td>\n",
       "      <td>0.779437</td>\n",
       "      <td>3</td>\n",
       "      <td>22973</td>\n",
       "      <td>17906</td>\n",
       "      <td>17</td>\n",
       "      <td>0.000231</td>\n",
       "    </tr>\n",
       "    <tr>\n",
       "      <th>4</th>\n",
       "      <td>4</td>\n",
       "      <td>4</td>\n",
       "      <td>3</td>\n",
       "      <td>1</td>\n",
       "      <td>131 162 38 5</td>\n",
       "      <td>131</td>\n",
       "      <td>162</td>\n",
       "      <td>38</td>\n",
       "      <td>5</td>\n",
       "      <td>-1</td>\n",
       "      <td>-1</td>\n",
       "      <td>[131, 162, 38, 5]</td>\n",
       "      <td>4</td>\n",
       "      <td>0.613215</td>\n",
       "      <td>4</td>\n",
       "      <td>31736</td>\n",
       "      <td>19461</td>\n",
       "      <td>1</td>\n",
       "      <td>0.000320</td>\n",
       "    </tr>\n",
       "  </tbody>\n",
       "</table>\n",
       "</div>"
      ],
      "text/plain": [
       "   question_id  bundle_id  correct_answer  part            tags tag_0 tag_1  \\\n",
       "0            0          0               0     1   131 162 38 51   131   162   \n",
       "1            1          1               1     1       131 36 81   131    36   \n",
       "2            2          2               0     1  101 131 162 92   101   131   \n",
       "3            3          3               0     1  131 149 162 29   131   149   \n",
       "4            4          4               3     1    131 162 38 5   131   162   \n",
       "\n",
       "  tag_2 tag_3 tag_4 tag_5                  tag  tag_num    c_rate  id    num  \\\n",
       "0    38    51    -1    -1   [131, 162, 38, 51]        4  0.907721   0   6903   \n",
       "1    81    -1    -1    -1        [131, 36, 81]        3  0.890646   1   7398   \n",
       "2   162    92    -1    -1  [101, 131, 162, 92]        4  0.554281   2  44905   \n",
       "3   162    29    -1    -1  [131, 149, 162, 29]        4  0.779437   3  22973   \n",
       "4    38     5    -1    -1    [131, 162, 38, 5]        4  0.613215   4  31736   \n",
       "\n",
       "   c_num  tag_group        qp  \n",
       "0   6266          1  0.000069  \n",
       "1   6589         20  0.000074  \n",
       "2  24890         17  0.000452  \n",
       "3  17906         17  0.000231  \n",
       "4  19461          1  0.000320  "
      ]
     },
     "execution_count": 17,
     "metadata": {},
     "output_type": "execute_result"
    }
   ],
   "source": [
    "q_df=pd.read_csv(input_path/'question_pre.csv')\n",
    "assert len(q_df.question_id.unique())==len(q_df)\n",
    "q_df['tags']=q_df['tags'].astype(str)\n",
    "tag_len=q_df['tags'].apply(lambda x: len(x.split(' '))).max()\n",
    "tags_df=q_df.tags.str.split(' ',expand=True).fillna(-1)\n",
    "for i in range(tag_len):\n",
    "    c_name='tag_'+str(i)\n",
    "    q_df[c_name]=tags_df[i]\n",
    "q_df['tag']=q_df['tags'].apply(lambda x: str(x).split(' '))\n",
    "q_df['tag_num']=q_df['tag'].apply(lambda x: len(x))\n",
    "q_df.head()"
   ]
  },
  {
   "cell_type": "code",
   "execution_count": 18,
   "id": "3061e692",
   "metadata": {},
   "outputs": [
    {
     "data": {
      "text/plain": [
       "2.2918731050802337"
      ]
     },
     "execution_count": 18,
     "metadata": {},
     "output_type": "execute_result"
    }
   ],
   "source": [
    "q_df.tag_num.mean()"
   ]
  },
  {
   "cell_type": "code",
   "execution_count": 19,
   "id": "2360490e",
   "metadata": {},
   "outputs": [],
   "source": [
    "assert q_df.isna().sum().sum() == 0"
   ]
  },
  {
   "cell_type": "code",
   "execution_count": 20,
   "id": "410df29c",
   "metadata": {},
   "outputs": [],
   "source": [
    "q_dict=dict()\n",
    "df_dict(q_df,'question_id',['bundle_id','part','correct_answer','tag','tag_0','tag_1','tag_2','tag_3','tag_4','tag_5','tag_num','tag_group','qp','c_rate'],q_dict)"
   ]
  },
  {
   "cell_type": "code",
   "execution_count": 21,
   "id": "d823007b",
   "metadata": {},
   "outputs": [
    {
     "data": {
      "text/plain": [
       "dict_keys(['bundle_id', 'part', 'correct_answer', 'tag', 'tag_0', 'tag_1', 'tag_2', 'tag_3', 'tag_4', 'tag_5', 'tag_num', 'tag_group', 'qp', 'c_rate'])"
      ]
     },
     "execution_count": 21,
     "metadata": {},
     "output_type": "execute_result"
    }
   ],
   "source": [
    "q_dict.keys()"
   ]
  },
  {
   "cell_type": "markdown",
   "id": "a9e3d16d",
   "metadata": {},
   "source": [
    "## Tag Group"
   ]
  },
  {
   "cell_type": "code",
   "execution_count": 22,
   "id": "c0a258b1",
   "metadata": {},
   "outputs": [
    {
     "data": {
      "text/html": [
       "<div>\n",
       "<style scoped>\n",
       "    .dataframe tbody tr th:only-of-type {\n",
       "        vertical-align: middle;\n",
       "    }\n",
       "\n",
       "    .dataframe tbody tr th {\n",
       "        vertical-align: top;\n",
       "    }\n",
       "\n",
       "    .dataframe thead th {\n",
       "        text-align: right;\n",
       "    }\n",
       "</style>\n",
       "<table border=\"1\" class=\"dataframe\">\n",
       "  <thead>\n",
       "    <tr style=\"text-align: right;\">\n",
       "      <th></th>\n",
       "      <th>tag_group</th>\n",
       "      <th>tgn</th>\n",
       "      <th>tgcn</th>\n",
       "      <th>tgcr</th>\n",
       "      <th>tgp</th>\n",
       "    </tr>\n",
       "  </thead>\n",
       "  <tbody>\n",
       "    <tr>\n",
       "      <th>0</th>\n",
       "      <td>0</td>\n",
       "      <td>5340928</td>\n",
       "      <td>2957917</td>\n",
       "      <td>0.553821</td>\n",
       "      <td>0.053801</td>\n",
       "    </tr>\n",
       "    <tr>\n",
       "      <th>1</th>\n",
       "      <td>1</td>\n",
       "      <td>2612284</td>\n",
       "      <td>2159411</td>\n",
       "      <td>0.826637</td>\n",
       "      <td>0.026315</td>\n",
       "    </tr>\n",
       "    <tr>\n",
       "      <th>2</th>\n",
       "      <td>2</td>\n",
       "      <td>895178</td>\n",
       "      <td>693719</td>\n",
       "      <td>0.774951</td>\n",
       "      <td>0.009017</td>\n",
       "    </tr>\n",
       "    <tr>\n",
       "      <th>3</th>\n",
       "      <td>3</td>\n",
       "      <td>6844831</td>\n",
       "      <td>5535531</td>\n",
       "      <td>0.808717</td>\n",
       "      <td>0.068951</td>\n",
       "    </tr>\n",
       "    <tr>\n",
       "      <th>4</th>\n",
       "      <td>4</td>\n",
       "      <td>6274734</td>\n",
       "      <td>4422091</td>\n",
       "      <td>0.704746</td>\n",
       "      <td>0.063208</td>\n",
       "    </tr>\n",
       "  </tbody>\n",
       "</table>\n",
       "</div>"
      ],
      "text/plain": [
       "   tag_group      tgn     tgcn      tgcr       tgp\n",
       "0          0  5340928  2957917  0.553821  0.053801\n",
       "1          1  2612284  2159411  0.826637  0.026315\n",
       "2          2   895178   693719  0.774951  0.009017\n",
       "3          3  6844831  5535531  0.808717  0.068951\n",
       "4          4  6274734  4422091  0.704746  0.063208"
      ]
     },
     "execution_count": 22,
     "metadata": {},
     "output_type": "execute_result"
    }
   ],
   "source": [
    "tgg_df=pd.read_csv(input_path/'tag_group.csv')\n",
    "tgg_df.head()"
   ]
  },
  {
   "cell_type": "code",
   "execution_count": 23,
   "id": "c7fa8e7e",
   "metadata": {},
   "outputs": [],
   "source": [
    "tgg_dict=dict()\n",
    "df_dict(tgg_df,'tag_group',['tgp','tgcr'],tgg_dict)"
   ]
  },
  {
   "cell_type": "markdown",
   "id": "ed041eee",
   "metadata": {},
   "source": [
    "## Lectures"
   ]
  },
  {
   "cell_type": "code",
   "execution_count": 24,
   "id": "8304b249",
   "metadata": {},
   "outputs": [],
   "source": [
    "l_df=pd.read_csv(input_path/'lectures.csv')"
   ]
  },
  {
   "cell_type": "code",
   "execution_count": 25,
   "id": "725027cc",
   "metadata": {},
   "outputs": [],
   "source": [
    "#convert type_of to number label\n",
    "# types=l_df.type_of.unique().tolist()\n",
    "# type_label=dict(zip(types,range(len(types))))\n",
    "# l_df['to']=l_df['type_of'].apply(lambda x: type_label[x])\n",
    "# l_df['type_of'] = pd.Categorical(l_df['type_of'])"
   ]
  },
  {
   "cell_type": "code",
   "execution_count": 26,
   "id": "e629aef4",
   "metadata": {},
   "outputs": [],
   "source": [
    "l_df['to']=col_cat(l_df,'type_of')"
   ]
  },
  {
   "cell_type": "code",
   "execution_count": 27,
   "id": "5c3302f0",
   "metadata": {},
   "outputs": [],
   "source": [
    "assert l_df.isna().sum().sum() == 0"
   ]
  },
  {
   "cell_type": "code",
   "execution_count": 28,
   "id": "826f630d",
   "metadata": {},
   "outputs": [
    {
     "data": {
      "text/html": [
       "<div>\n",
       "<style scoped>\n",
       "    .dataframe tbody tr th:only-of-type {\n",
       "        vertical-align: middle;\n",
       "    }\n",
       "\n",
       "    .dataframe tbody tr th {\n",
       "        vertical-align: top;\n",
       "    }\n",
       "\n",
       "    .dataframe thead th {\n",
       "        text-align: right;\n",
       "    }\n",
       "</style>\n",
       "<table border=\"1\" class=\"dataframe\">\n",
       "  <thead>\n",
       "    <tr style=\"text-align: right;\">\n",
       "      <th></th>\n",
       "      <th>lecture_id</th>\n",
       "      <th>tag</th>\n",
       "      <th>part</th>\n",
       "      <th>type_of</th>\n",
       "      <th>to</th>\n",
       "    </tr>\n",
       "  </thead>\n",
       "  <tbody>\n",
       "    <tr>\n",
       "      <th>0</th>\n",
       "      <td>89</td>\n",
       "      <td>159</td>\n",
       "      <td>5</td>\n",
       "      <td>concept</td>\n",
       "      <td>1</td>\n",
       "    </tr>\n",
       "    <tr>\n",
       "      <th>1</th>\n",
       "      <td>100</td>\n",
       "      <td>70</td>\n",
       "      <td>1</td>\n",
       "      <td>concept</td>\n",
       "      <td>1</td>\n",
       "    </tr>\n",
       "    <tr>\n",
       "      <th>2</th>\n",
       "      <td>185</td>\n",
       "      <td>45</td>\n",
       "      <td>6</td>\n",
       "      <td>concept</td>\n",
       "      <td>1</td>\n",
       "    </tr>\n",
       "    <tr>\n",
       "      <th>3</th>\n",
       "      <td>192</td>\n",
       "      <td>79</td>\n",
       "      <td>5</td>\n",
       "      <td>solving question</td>\n",
       "      <td>2</td>\n",
       "    </tr>\n",
       "    <tr>\n",
       "      <th>4</th>\n",
       "      <td>317</td>\n",
       "      <td>156</td>\n",
       "      <td>5</td>\n",
       "      <td>solving question</td>\n",
       "      <td>2</td>\n",
       "    </tr>\n",
       "  </tbody>\n",
       "</table>\n",
       "</div>"
      ],
      "text/plain": [
       "   lecture_id  tag  part           type_of  to\n",
       "0          89  159     5           concept   1\n",
       "1         100   70     1           concept   1\n",
       "2         185   45     6           concept   1\n",
       "3         192   79     5  solving question   2\n",
       "4         317  156     5  solving question   2"
      ]
     },
     "execution_count": 28,
     "metadata": {},
     "output_type": "execute_result"
    }
   ],
   "source": [
    "l_df.head()"
   ]
  },
  {
   "cell_type": "code",
   "execution_count": 29,
   "id": "38b3aaf6",
   "metadata": {},
   "outputs": [],
   "source": [
    "l_dict=dict()\n",
    "df_dict(l_df,'lecture_id',['tag','part','to'],l_dict)"
   ]
  },
  {
   "cell_type": "markdown",
   "id": "91a10674",
   "metadata": {},
   "source": [
    "## Interaction"
   ]
  },
  {
   "cell_type": "code",
   "execution_count": 30,
   "id": "11113d5a",
   "metadata": {},
   "outputs": [],
   "source": [
    "train_df=pd.read_csv(input_path/'train.csv')"
   ]
  },
  {
   "cell_type": "code",
   "execution_count": 31,
   "id": "4e4d12c8",
   "metadata": {},
   "outputs": [
    {
     "data": {
      "text/html": [
       "<div>\n",
       "<style scoped>\n",
       "    .dataframe tbody tr th:only-of-type {\n",
       "        vertical-align: middle;\n",
       "    }\n",
       "\n",
       "    .dataframe tbody tr th {\n",
       "        vertical-align: top;\n",
       "    }\n",
       "\n",
       "    .dataframe thead th {\n",
       "        text-align: right;\n",
       "    }\n",
       "</style>\n",
       "<table border=\"1\" class=\"dataframe\">\n",
       "  <thead>\n",
       "    <tr style=\"text-align: right;\">\n",
       "      <th></th>\n",
       "      <th>row_id</th>\n",
       "      <th>timestamp</th>\n",
       "      <th>user_id</th>\n",
       "      <th>content_id</th>\n",
       "      <th>content_type_id</th>\n",
       "      <th>task_container_id</th>\n",
       "      <th>user_answer</th>\n",
       "      <th>answered_correctly</th>\n",
       "      <th>prior_question_elapsed_time</th>\n",
       "      <th>prior_question_had_explanation</th>\n",
       "    </tr>\n",
       "  </thead>\n",
       "  <tbody>\n",
       "    <tr>\n",
       "      <th>0</th>\n",
       "      <td>0</td>\n",
       "      <td>0</td>\n",
       "      <td>115</td>\n",
       "      <td>5692</td>\n",
       "      <td>0</td>\n",
       "      <td>1</td>\n",
       "      <td>3</td>\n",
       "      <td>1</td>\n",
       "      <td>NaN</td>\n",
       "      <td>NaN</td>\n",
       "    </tr>\n",
       "    <tr>\n",
       "      <th>1</th>\n",
       "      <td>1</td>\n",
       "      <td>56943</td>\n",
       "      <td>115</td>\n",
       "      <td>5716</td>\n",
       "      <td>0</td>\n",
       "      <td>2</td>\n",
       "      <td>2</td>\n",
       "      <td>1</td>\n",
       "      <td>37000.0</td>\n",
       "      <td>False</td>\n",
       "    </tr>\n",
       "    <tr>\n",
       "      <th>2</th>\n",
       "      <td>2</td>\n",
       "      <td>118363</td>\n",
       "      <td>115</td>\n",
       "      <td>128</td>\n",
       "      <td>0</td>\n",
       "      <td>0</td>\n",
       "      <td>0</td>\n",
       "      <td>1</td>\n",
       "      <td>55000.0</td>\n",
       "      <td>False</td>\n",
       "    </tr>\n",
       "    <tr>\n",
       "      <th>3</th>\n",
       "      <td>3</td>\n",
       "      <td>131167</td>\n",
       "      <td>115</td>\n",
       "      <td>7860</td>\n",
       "      <td>0</td>\n",
       "      <td>3</td>\n",
       "      <td>0</td>\n",
       "      <td>1</td>\n",
       "      <td>19000.0</td>\n",
       "      <td>False</td>\n",
       "    </tr>\n",
       "    <tr>\n",
       "      <th>4</th>\n",
       "      <td>4</td>\n",
       "      <td>137965</td>\n",
       "      <td>115</td>\n",
       "      <td>7922</td>\n",
       "      <td>0</td>\n",
       "      <td>4</td>\n",
       "      <td>1</td>\n",
       "      <td>1</td>\n",
       "      <td>11000.0</td>\n",
       "      <td>False</td>\n",
       "    </tr>\n",
       "  </tbody>\n",
       "</table>\n",
       "</div>"
      ],
      "text/plain": [
       "   row_id  timestamp  user_id  content_id  content_type_id  task_container_id  \\\n",
       "0       0          0      115        5692                0                  1   \n",
       "1       1      56943      115        5716                0                  2   \n",
       "2       2     118363      115         128                0                  0   \n",
       "3       3     131167      115        7860                0                  3   \n",
       "4       4     137965      115        7922                0                  4   \n",
       "\n",
       "   user_answer  answered_correctly  prior_question_elapsed_time  \\\n",
       "0            3                   1                          NaN   \n",
       "1            2                   1                      37000.0   \n",
       "2            0                   1                      55000.0   \n",
       "3            0                   1                      19000.0   \n",
       "4            1                   1                      11000.0   \n",
       "\n",
       "  prior_question_had_explanation  \n",
       "0                            NaN  \n",
       "1                          False  \n",
       "2                          False  \n",
       "3                          False  \n",
       "4                          False  "
      ]
     },
     "execution_count": 31,
     "metadata": {},
     "output_type": "execute_result"
    }
   ],
   "source": [
    "train_df.head()"
   ]
  },
  {
   "cell_type": "code",
   "execution_count": 32,
   "id": "08a2b878",
   "metadata": {},
   "outputs": [],
   "source": [
    "train_df=train_df.sort_values(by=['user_id', 'timestamp'])"
   ]
  },
  {
   "cell_type": "code",
   "execution_count": 33,
   "id": "64766ca2",
   "metadata": {},
   "outputs": [],
   "source": [
    "Col=dict(zip(train_df.columns,range(len(train_df.columns))))"
   ]
  },
  {
   "cell_type": "code",
   "execution_count": 34,
   "id": "819be2f2",
   "metadata": {},
   "outputs": [],
   "source": [
    "train_df['pqhe']=train_df['prior_question_had_explanation'].fillna(False)\n",
    "train_df['pqhe']=col_cat(train_df,'pqhe')-1\n",
    "pqet_avg=train_df['prior_question_elapsed_time'].mean()\n",
    "train_df['pqet']=train_df['prior_question_elapsed_time'].fillna(pqet_avg)"
   ]
  },
  {
   "cell_type": "code",
   "execution_count": 35,
   "id": "84d6e1fc",
   "metadata": {},
   "outputs": [],
   "source": [
    "#appearance probability of each questions\n",
    "train_q_df = train_df[train_df['content_type_id'] == 0]\n",
    "qp_d = (train_q_df['content_id'].value_counts() / len(train_q_df)).to_dict()\n"
   ]
  },
  {
   "cell_type": "code",
   "execution_count": 36,
   "id": "2f1e99a3",
   "metadata": {},
   "outputs": [],
   "source": [
    "# c_r=train_q_df[['content_id','answered_correctly']].groupby('content_id').sum()/train_q_df[['content_id','answered_correctly']].groupby('content_id').count()#correct rate\n",
    "# c_r.columns=['c_rate']\n",
    "# c_r['id']=c_r.index\n",
    "# c_r['num']=train_q_df[['content_id','answered_correctly']].groupby('content_id').count().values\n",
    "# c_r['c_num']=train_q_df[['content_id','answered_correctly']].groupby('content_id').sum().values"
   ]
  },
  {
   "cell_type": "code",
   "execution_count": 37,
   "id": "e34a310c",
   "metadata": {},
   "outputs": [],
   "source": [
    "# df_dict(c_r,'id',['num','c_num','c_rate'],q_dict)"
   ]
  },
  {
   "cell_type": "code",
   "execution_count": 38,
   "id": "eb334bcf",
   "metadata": {},
   "outputs": [],
   "source": [
    "q_df['qp']=q_df.question_id.apply(lambda x: qp_d[x])\n",
    "df_dict(q_df,'question_id',['qp'],q_dict)"
   ]
  },
  {
   "cell_type": "code",
   "execution_count": 39,
   "id": "599f9e27",
   "metadata": {},
   "outputs": [],
   "source": [
    "# tags=c_r.join(q_df)[['tag_0','tag_1','tag_2','tag_3','tag_4','tag_5','num']].fillna('-1').values\n",
    "# tag_count=defaultdict(lambda:0)\n",
    "# for tag in tags.flat:\n",
    "#     if tag!='nan' and int(tag)>0:\n",
    "#         tag_count[tag]=tag_count[tag]+1"
   ]
  },
  {
   "cell_type": "code",
   "execution_count": 40,
   "id": "ea960dfd",
   "metadata": {},
   "outputs": [],
   "source": [
    "avg_c_rate=train_q_df['answered_correctly'].sum()/train_q_df['answered_correctly'].count()"
   ]
  },
  {
   "cell_type": "markdown",
   "id": "f894c0b7",
   "metadata": {},
   "source": [
    "## Test"
   ]
  },
  {
   "cell_type": "code",
   "execution_count": 41,
   "id": "f56710e3",
   "metadata": {},
   "outputs": [
    {
     "data": {
      "text/plain": [
       "Index(['row_id', 'timestamp', 'user_id', 'content_id', 'content_type_id',\n",
       "       'task_container_id', 'user_answer', 'answered_correctly',\n",
       "       'prior_question_elapsed_time', 'prior_question_had_explanation', 'pqhe',\n",
       "       'pqet'],\n",
       "      dtype='object')"
      ]
     },
     "execution_count": 41,
     "metadata": {},
     "output_type": "execute_result"
    }
   ],
   "source": [
    "train_df.columns\n",
    "# 'row_id', 'timestamp', 'user_id', 'content_id', 'content_type_id','task_container_id', 'user_answer', 'answered_correctly','prior_question_elapsed_time', 'prior_question_had_explanation'\n",
    "  "
   ]
  },
  {
   "cell_type": "code",
   "execution_count": 42,
   "id": "686da631",
   "metadata": {},
   "outputs": [],
   "source": [
    "f_cols=[\n",
    "    #basic\n",
    "    'cu',#count of question of this user\n",
    "    'is_first',\n",
    "    #timestamp\n",
    "    'ts',\n",
    "    'ts_mod_day',\n",
    "    'ts_mod_week',\n",
    "    'ts_day',\n",
    "    #question\n",
    "    'question_id',\n",
    "#     'task_container_id',\n",
    "    'container_ord', #organ in the container\n",
    "    'part',\n",
    "    'bundle_id',\n",
    "    'tgg',#tag group\n",
    "    'qtag0',\n",
    "    'tag_num',#number of tags\n",
    "    'qp', #appear probability\n",
    "    'qc_r',#correct rate\n",
    "    #question user cum\n",
    "    #Calc cumsum for question numbers\n",
    "#     cum_sum',\n",
    "    'cum_csum',\n",
    "    'cum_crate',\n",
    "    'sum_avgt',#average cosume time\n",
    "    'a_ans',#already answerewd: 0 no 1 incorrect 2 correct\n",
    "    #prior answer\n",
    "    'pq',\n",
    "    'ptag0',\n",
    "    'ppart',\n",
    "    'pbundle',\n",
    "    'ptgg',\n",
    "    'pq_correct',#whether prior answered correct\n",
    "    'pqet',#remember to divide task_container num\n",
    "    'pqhe',\n",
    "    'tsli', #prior to current\n",
    "    'tsli2',\n",
    "    'tsli3',\n",
    "    'clipped_tsli',#20 minutes clipped\n",
    "    #for the last 5 questions\n",
    "    'roll_num',\n",
    "    'roll_1',\n",
    "    'roll_2',\n",
    "    'roll_3',\n",
    "    'roll_4',\n",
    "    'roll_5',\n",
    "    'roll_6',\n",
    "    'roll_7',\n",
    "    'roll_8',\n",
    "    'roll_9',\n",
    "    'roll_10',\n",
    "    #taggroup\n",
    "    'tgp',\n",
    "    'tgcr',\n",
    "    'tgg_num',#user question number under this taggroup\n",
    "    'tgg_cnum',#user correct question number under this taggroup\n",
    "    #lecture\n",
    "    'l_num',#lecture sum\n",
    "    'l_tag_num',#l_num in the tag\n",
    "    'l1_num',#l_num in concept\n",
    "    'l2_num',#l_num in solve questions\n",
    "    'l_part_num',\n",
    "    #diagnostic\n",
    "    'is_d',\n",
    "    #part\n",
    "    'pp_num',#paid part ratio 1,3,4,6,7\n",
    "    'lp_num',#listening part ratio 1,2,3,4\n",
    "    'pp_ratio',#paid part ratio 1,3,4,6,7\n",
    "    'lp_ratio',#listening part ratio 1,2,3,4\n",
    "    #answer\n",
    "    'answered_correctly',\n",
    "    'user_answer'\n",
    "]\n",
    "FCol=dict(zip(f_cols,range(len(f_cols))))\n",
    "Col=dict(zip(train_df.columns,range(len(train_df.columns))))"
   ]
  },
  {
   "cell_type": "code",
   "execution_count": 43,
   "id": "3fc5aefa",
   "metadata": {},
   "outputs": [
    {
     "data": {
      "text/html": [
       "<div>\n",
       "<style scoped>\n",
       "    .dataframe tbody tr th:only-of-type {\n",
       "        vertical-align: middle;\n",
       "    }\n",
       "\n",
       "    .dataframe tbody tr th {\n",
       "        vertical-align: top;\n",
       "    }\n",
       "\n",
       "    .dataframe thead th {\n",
       "        text-align: right;\n",
       "    }\n",
       "</style>\n",
       "<table border=\"1\" class=\"dataframe\">\n",
       "  <thead>\n",
       "    <tr style=\"text-align: right;\">\n",
       "      <th></th>\n",
       "      <th>row_id</th>\n",
       "      <th>timestamp</th>\n",
       "      <th>user_id</th>\n",
       "      <th>content_id</th>\n",
       "      <th>content_type_id</th>\n",
       "      <th>task_container_id</th>\n",
       "      <th>user_answer</th>\n",
       "      <th>answered_correctly</th>\n",
       "      <th>prior_question_elapsed_time</th>\n",
       "      <th>prior_question_had_explanation</th>\n",
       "      <th>pqhe</th>\n",
       "      <th>pqet</th>\n",
       "    </tr>\n",
       "  </thead>\n",
       "  <tbody>\n",
       "    <tr>\n",
       "      <th>0</th>\n",
       "      <td>0</td>\n",
       "      <td>0</td>\n",
       "      <td>115</td>\n",
       "      <td>5692</td>\n",
       "      <td>0</td>\n",
       "      <td>1</td>\n",
       "      <td>3</td>\n",
       "      <td>1</td>\n",
       "      <td>NaN</td>\n",
       "      <td>NaN</td>\n",
       "      <td>0</td>\n",
       "      <td>25423.810043</td>\n",
       "    </tr>\n",
       "    <tr>\n",
       "      <th>1</th>\n",
       "      <td>1</td>\n",
       "      <td>56943</td>\n",
       "      <td>115</td>\n",
       "      <td>5716</td>\n",
       "      <td>0</td>\n",
       "      <td>2</td>\n",
       "      <td>2</td>\n",
       "      <td>1</td>\n",
       "      <td>37000.0</td>\n",
       "      <td>False</td>\n",
       "      <td>0</td>\n",
       "      <td>37000.000000</td>\n",
       "    </tr>\n",
       "    <tr>\n",
       "      <th>2</th>\n",
       "      <td>2</td>\n",
       "      <td>118363</td>\n",
       "      <td>115</td>\n",
       "      <td>128</td>\n",
       "      <td>0</td>\n",
       "      <td>0</td>\n",
       "      <td>0</td>\n",
       "      <td>1</td>\n",
       "      <td>55000.0</td>\n",
       "      <td>False</td>\n",
       "      <td>0</td>\n",
       "      <td>55000.000000</td>\n",
       "    </tr>\n",
       "    <tr>\n",
       "      <th>3</th>\n",
       "      <td>3</td>\n",
       "      <td>131167</td>\n",
       "      <td>115</td>\n",
       "      <td>7860</td>\n",
       "      <td>0</td>\n",
       "      <td>3</td>\n",
       "      <td>0</td>\n",
       "      <td>1</td>\n",
       "      <td>19000.0</td>\n",
       "      <td>False</td>\n",
       "      <td>0</td>\n",
       "      <td>19000.000000</td>\n",
       "    </tr>\n",
       "    <tr>\n",
       "      <th>4</th>\n",
       "      <td>4</td>\n",
       "      <td>137965</td>\n",
       "      <td>115</td>\n",
       "      <td>7922</td>\n",
       "      <td>0</td>\n",
       "      <td>4</td>\n",
       "      <td>1</td>\n",
       "      <td>1</td>\n",
       "      <td>11000.0</td>\n",
       "      <td>False</td>\n",
       "      <td>0</td>\n",
       "      <td>11000.000000</td>\n",
       "    </tr>\n",
       "  </tbody>\n",
       "</table>\n",
       "</div>"
      ],
      "text/plain": [
       "   row_id  timestamp  user_id  content_id  content_type_id  task_container_id  \\\n",
       "0       0          0      115        5692                0                  1   \n",
       "1       1      56943      115        5716                0                  2   \n",
       "2       2     118363      115         128                0                  0   \n",
       "3       3     131167      115        7860                0                  3   \n",
       "4       4     137965      115        7922                0                  4   \n",
       "\n",
       "   user_answer  answered_correctly  prior_question_elapsed_time  \\\n",
       "0            3                   1                          NaN   \n",
       "1            2                   1                      37000.0   \n",
       "2            0                   1                      55000.0   \n",
       "3            0                   1                      19000.0   \n",
       "4            1                   1                      11000.0   \n",
       "\n",
       "  prior_question_had_explanation  pqhe          pqet  \n",
       "0                            NaN     0  25423.810043  \n",
       "1                          False     0  37000.000000  \n",
       "2                          False     0  55000.000000  \n",
       "3                          False     0  19000.000000  \n",
       "4                          False     0  11000.000000  "
      ]
     },
     "execution_count": 43,
     "metadata": {},
     "output_type": "execute_result"
    }
   ],
   "source": [
    "train_df.head()"
   ]
  },
  {
   "cell_type": "code",
   "execution_count": 44,
   "id": "f75d2aa4",
   "metadata": {},
   "outputs": [],
   "source": [
    "test_df=train_df[0:100000]\n",
    "test_df=test_df.sort_values(by=['user_id', 'timestamp'])\n",
    "test_data=test_df.values"
   ]
  },
  {
   "cell_type": "code",
   "execution_count": 45,
   "id": "52656c35",
   "metadata": {},
   "outputs": [
    {
     "name": "stdout",
     "output_type": "stream",
     "text": [
      "dict_keys(['row_id', 'timestamp', 'user_id', 'content_id', 'content_type_id', 'task_container_id', 'user_answer', 'answered_correctly', 'prior_question_elapsed_time', 'prior_question_had_explanation', 'pqhe', 'pqet'])\n",
      "dict_keys(['cu', 'is_first', 'ts', 'ts_mod_day', 'ts_mod_week', 'ts_day', 'question_id', 'container_ord', 'part', 'bundle_id', 'tgg', 'qtag0', 'tag_num', 'qp', 'qc_r', 'cum_csum', 'cum_crate', 'sum_avgt', 'a_ans', 'pq', 'ptag0', 'ppart', 'pbundle', 'ptgg', 'pq_correct', 'pqet', 'pqhe', 'tsli', 'tsli2', 'tsli3', 'clipped_tsli', 'roll_num', 'roll_1', 'roll_2', 'roll_3', 'roll_4', 'roll_5', 'roll_6', 'roll_7', 'roll_8', 'roll_9', 'roll_10', 'tgp', 'tgcr', 'tgg_num', 'tgg_cnum', 'l_num', 'l_tag_num', 'l1_num', 'l2_num', 'l_part_num', 'is_d', 'pp_num', 'lp_num', 'pp_ratio', 'lp_ratio', 'answered_correctly', 'user_answer'])\n"
     ]
    }
   ],
   "source": [
    "print(Col.keys())\n",
    "print(FCol.keys())"
   ]
  },
  {
   "cell_type": "code",
   "execution_count": 46,
   "id": "f77abb75",
   "metadata": {},
   "outputs": [
    {
     "name": "stdout",
     "output_type": "stream",
     "text": [
      "CPU times: total: 0 ns\n",
      "Wall time: 0 ns\n"
     ]
    }
   ],
   "source": [
    "%%time\n",
    "diagnostic_questions=[[7900],[7876],[175],[1278],[2063, 2064, 2065],[2063, 2064, 2065],[2063, 2064, 2065],[3363, 3364, 3365],[3363, 3364, 3365],[3363, 3364, 3365],[2946, 2947, 2948],[2946, 2947, 2948],[2946, 2947, 2948],[2593, 2594, 2595],[2593, 2594, 2595], [2593, 2594, 2595], [4492], [4120], [4696], [6116], [6173], [6370], [6877, 6878, 6879, 6880], [6877, 6878, 6879, 6880], [6877, 6878, 6879, 6880], [6877, 6878, 6879, 6880], [7216, 7217, 7218, 7219], [7216, 7217, 7218, 7219], [7216, 7217, 7218, 7219], [7216, 7217, 7218, 7219]]\n",
    "diagnostic_questions2=[128, 7860, 7922, 156, 51, 50, 7896, 7863, 152, 104, 108, 7900, 7901, 7971, 25, 183, 7926, 7927, 4, 7984, 45, 185, 55, 7876, 6, 172, 7898, 175, 100, 7859]\n",
    "\n",
    "train=[]\n",
    "cu_dict=defaultdict(lambda:0)#user number of questions\n",
    "ccu_dict=defaultdict(lambda:0)#user number of correct questions\n",
    "cpu_dict=defaultdict(lambda: defaultdict(lambda:0))#user number of part\n",
    "last_ts=defaultdict(lambda:0)\n",
    "ctgu_dict=defaultdict(lambda: defaultdict(lambda:0))#user number on the tag group\n",
    "cctgu_dict=defaultdict(lambda: defaultdict(lambda:0))#user correct number on the tag group\n",
    "u_tc_dict=defaultdict(lambda:0) #number of questions in current task container\n",
    "u_ptc_dict=defaultdict(lambda:-1) #prior task container\n",
    "u_pq_dict=defaultdict(lambda:-1) #prior task container\n",
    "u_qet_dict=defaultdict(lambda:defaultdict(lambda:25423)) # question elapsed time,use userid as key and tcid as sub-key\n",
    "u_hist_dict=defaultdict(lambda: defaultdict(lambda:0)) #question history of user with answer\n",
    "u_tsli_dict=defaultdict(lambda: 0) #temp tsli\n",
    "#lecture dict\n",
    "u_l_dict=defaultdict(lambda:0)\n",
    "u_ltag_dict=defaultdict(lambda: defaultdict(lambda:0))\n",
    "u_lpart_dict=defaultdict(lambda: defaultdict(lambda:0))\n",
    "u_lto_dict=defaultdict(lambda: defaultdict(lambda:0))\n",
    "u_10pre_dict=defaultdict(lambda:deque([0,0,0,0,0,0,0,0,0,0]))\n",
    "u_3pt_dict=defaultdict(lambda:deque([0,0,0]))#pre timestamp\n",
    "pay_part=[1,2,4,6,7]\n",
    "listen_part=[1,2,3,4]\n"
   ]
  },
  {
   "cell_type": "code",
   "execution_count": 47,
   "id": "b5cf0106",
   "metadata": {},
   "outputs": [],
   "source": [
    "def update_data(data,cu_dict,ccu_dict,cpu_dict,last_ts,ctgu_dict,cctgu_dict,u_tc_dict,u_ptc_dict,u_pq_dict,u_qet_dict,u_hist_dict,u_tsli_dict,u_l_dict,u_ltag_dict,u_lpart_dict,u_lto_dict,u_10pre_dict,u_3pt_dict): \n",
    "    diagnostic_questions=[[7900],[7876],[175],[1278],[2063, 2064, 2065],[2063, 2064, 2065],[2063, 2064, 2065],[3363, 3364, 3365],[3363, 3364, 3365],[3363, 3364, 3365],[2946, 2947, 2948],[2946, 2947, 2948],[2946, 2947, 2948],[2593, 2594, 2595],[2593, 2594, 2595], [2593, 2594, 2595], [4492], [4120], [4696], [6116], [6173], [6370], [6877, 6878, 6879, 6880], [6877, 6878, 6879, 6880], [6877, 6878, 6879, 6880], [6877, 6878, 6879, 6880], [7216, 7217, 7218, 7219], [7216, 7217, 7218, 7219], [7216, 7217, 7218, 7219], [7216, 7217, 7218, 7219]]\n",
    "    diagnostic_questions2=[128, 7860, 7922, 156, 51, 50, 7896, 7863, 152, 104, 108, 7900, 7901, 7971, 25, 183, 7926, 7927, 4, 7984, 45, 185, 55, 7876, 6, 172, 7898, 175, 100, 7859]\n",
    "    pay_part=[1,2,4,6,7]\n",
    "    listen_part=[1,2,3,4]\n",
    "    # tags=['tag_0','tag_1','tag_2','tag_3','tag_4','tag_5']\n",
    "    train_x=[]\n",
    "    train_y=[]\n",
    "    for i,row in enumerate(data):\n",
    "\n",
    "        is_lecture=row[Col['content_type_id']]\n",
    "        #only make record for questions,lecture update to features\n",
    "        user_id=row[Col['user_id']]\n",
    "        if not is_lecture:\n",
    "            frow=np.zeros(len(FCol)).astype(np.float64)\n",
    "            qid=row[Col['content_id']]\n",
    "            tcid=row[Col['task_container_id']]\n",
    "            tags=q_dict['tag'][qid]\n",
    "            part=q_dict['part'][qid]\n",
    "            tgg=q_dict['tag_group'][qid]\n",
    "            #update cu\n",
    "            cu_dict[user_id]+=1\n",
    "            u_tc_dict[user_id,tcid]+=1\n",
    "            ctgu_dict[user_id][tgg]+=1\n",
    "            cpu_dict[user_id][part]+=1\n",
    "            for tag in tags:\n",
    "                tag=int(tag)\n",
    "                frow[FCol['l_tag_num']]+=u_ltag_dict[user_id][tag]\n",
    "            #update data\n",
    "            frow[FCol['cu']]=cu_dict[user_id]\n",
    "            ts=row[Col['timestamp']]\n",
    "            frow[FCol['ts']]=ts\n",
    "            #tsli for the prior task container\n",
    "            if ts-last_ts[user_id]!=0:\n",
    "                tsli=ts-last_ts[user_id]\n",
    "                u_tsli_dict[user_id]=tsli\n",
    "            else:\n",
    "                tsli=u_tsli_dict[user_id]\n",
    "            frow[FCol['tsli']]=tsli\n",
    "            frow[FCol['tsli2']]=ts-u_3pt_dict[user_id][1]\n",
    "            frow[FCol['tsli3']]=ts-u_3pt_dict[user_id][0]\n",
    "            frow[FCol['clipped_tsli']]=min(tsli, 1000 * 60 * 20)\n",
    "            frow[FCol['ts_mod_day']]=(row[Col['timestamp']])%(1000 * 60 * 60 * 24)\n",
    "            frow[FCol['ts_mod_week']]=(row[Col['timestamp']])%(1000 * 60 * 60 * 24*7)\n",
    "            frow[FCol['ts_day']]=int(row[Col['timestamp']])/(1000 * 60 * 60 * 24)\n",
    "\n",
    "            frow[FCol['question_id']]=qid\n",
    "            frow[FCol['pqhe']]=row[Col['pqhe']]\n",
    "\n",
    "            frow[FCol['container_ord']]=u_tc_dict[user_id,tcid]\n",
    "            frow[FCol['part']]=q_dict['part'][qid]\n",
    "            frow[FCol['bundle_id']]=q_dict['bundle_id'][qid]\n",
    "            frow[FCol['qp']]=q_dict['qp'][qid]\n",
    "            frow[FCol['tag_num']]=q_dict['tag_num'][qid]\n",
    "            frow[FCol['qtag0']]=q_dict['tag_0'][qid]\n",
    "            frow[FCol['qc_r']]=q_dict['c_rate'][qid]\n",
    "            frow[FCol['tgg']]=tgg\n",
    "            #update ccu\n",
    "            frow[FCol['cum_csum']]=ccu_dict[user_id]\n",
    "            frow[FCol['cum_crate']]=frow[FCol['cum_csum']]/float(frow[FCol['cu']])\n",
    "            #update question elapsed time to dict\n",
    "            ptc=u_ptc_dict[user_id]\n",
    "            pq=u_pq_dict[user_id]\n",
    "            if ptc!=-1  and ptc!=tcid:\n",
    "                u_qet_dict[user_id][ptc]=row[Col['pqet']]/u_tc_dict[user_id,ptc]\n",
    "            if ptc!=-1:\n",
    "                frow[FCol['sum_avgt']]=sum(u_qet_dict[user_id].values())/len(u_qet_dict[user_id])\n",
    "                frow[FCol['pq']]=pq\n",
    "                frow[FCol['ptag0']]=q_dict['tag_0'][pq]\n",
    "                frow[FCol['ptgg']]=q_dict['tag_group'][pq]\n",
    "                frow[FCol['ppart']]=q_dict['part'][pq]\n",
    "                frow[FCol['pbundle']]=q_dict['bundle_id'][pq]\n",
    "                frow[FCol['pq_correct']]=u_hist_dict[user_id][pq]-1\n",
    "                frow[FCol['is_first']]=0\n",
    "            else:\n",
    "                frow[FCol['sum_avgt']]=-1\n",
    "                frow[FCol['is_first']]=1\n",
    "            u_ptc_dict[user_id]=tcid\n",
    "            u_pq_dict[user_id]=qid\n",
    "            frow[FCol['a_ans']]=u_hist_dict[user_id][qid]\n",
    "            \n",
    "            frow[FCol['pqet']]=u_qet_dict[user_id][ptc]\n",
    "            #update last_timestamp,do not update when there is in the same task container\n",
    "            last_ts[user_id]=row[Col['timestamp']]\n",
    "            #taggroup stats\n",
    "            frow[FCol['tgp']]=tgg_dict['tgp'][tgg]\n",
    "            frow[FCol['tgcr']]=tgg_dict['tgcr'][tgg]\n",
    "            frow[FCol['tgg_num']]=ctgu_dict[user_id][tgg]\n",
    "            frow[FCol['tgg_cnum']]=cctgu_dict[user_id][tgg]\n",
    "\n",
    "            #lecture l_num l_tag_num l_part_num l_1_num l_2_num\n",
    "            frow[FCol['l_num']]=u_l_dict[user_id]\n",
    "\n",
    "            frow[FCol['l_part_num']]=u_lpart_dict[user_id][part]\n",
    "\n",
    "            frow[FCol['l1_num']]=u_lpart_dict[user_id][1]  \n",
    "            frow[FCol['l2_num']]=u_lpart_dict[user_id][2]  \n",
    "            #diagnostic\n",
    "            if frow[FCol['cu']] < 30:          \n",
    "                if qid in diagnostic_questions[int(frow[FCol['cu']])]:\n",
    "                    frow[FCol['is_d']] =2\n",
    "                elif qid == diagnostic_questions2[int(frow[FCol['cu']])]:\n",
    "                    frow[FCol['is_d']] =1\n",
    "                    #else 0\n",
    "            #part ratio\n",
    "            pp=0\n",
    "            lp=0\n",
    "            for p in pay_part:\n",
    "                pp+=cpu_dict[user_id][p]\n",
    "            for p in listen_part:\n",
    "                lp+=cpu_dict[user_id][p]\n",
    "            frow[FCol['pp_num']]=pp\n",
    "            frow[FCol['lp_num']]=lp\n",
    "            frow[FCol['pp_ratio']]=pp/cu_dict[user_id]\n",
    "            frow[FCol['lp_ratio']]=lp/cu_dict[user_id]\n",
    "            #roll\n",
    "            if cu_dict[user_id]<11:\n",
    "                frow[FCol['roll_num']]=cu_dict[user_id]-1\n",
    "            else:\n",
    "                frow[FCol['roll_num']]=10\n",
    "            for i in range(10):\n",
    "                frow[FCol['roll_num']+i]=u_10pre_dict[user_id][i]\n",
    "    #         if len(u_10pre_dict[user_id])>1:\n",
    "    #             pre_5=np.array(u_5pre_dict[user_id])\n",
    "    #             pre_10=np.array(u_10pre_dict[user_id])\n",
    "    #             frow[FCol['roll5_c']]=pre_5.sum(axis=0)[1]\n",
    "    #             frow[FCol['roll10_c']]=pre_10.sum(axis=0)[1]\n",
    "    #             frow[FCol['roll5_cr']]=pre_5.sum(axis=0)[1]/pre_5.shape[0]\n",
    "    #             frow[FCol['roll10_cr']]=pre_10.sum(axis=0)[1]/pre_5.shape[0]\n",
    "            #append to data\n",
    "            train_x.append(frow.tolist())\n",
    "            train_y.append(row[Col['answered_correctly']])\n",
    "\n",
    "            #update others\n",
    "            ccu_dict[user_id]+=row[Col['answered_correctly']]\n",
    "            cctgu_dict[user_id][tgg]+=row[Col['answered_correctly']]\n",
    "            u_hist_dict[user_id][qid]=row[Col['answered_correctly']]+1\n",
    "            #append roll deque\n",
    "    #         u_5pre_dict[user_id].popleft()\n",
    "    #         u_5pre_dict[user_id].append(row[Col['answered_correctly']])\n",
    "            u_10pre_dict[user_id].popleft()\n",
    "            u_10pre_dict[user_id].append(row[Col['answered_correctly']])\n",
    "            u_3pt_dict[user_id].popleft()\n",
    "            u_3pt_dict[user_id].append(ts)\n",
    "    #         if len(u_10pre_dict[user_id])<10:\n",
    "    #             u_10pre_dict[user_id].append([qid,row[Col['answered_correctly']],row[Col['user_answer']]])\n",
    "    #         else:\n",
    "    #             u_10pre_dict[user_id].popleft()\n",
    "    #             u_10pre_dict[user_id].append([qid,row[Col['answered_correctly']],row[Col['user_answer']]])\n",
    "\n",
    "        if is_lecture:\n",
    "            lid=row[Col['content_id']]\n",
    "            tag=l_dict['tag'][lid]\n",
    "            part=l_dict['part'][lid]\n",
    "            to=l_dict['to'][lid]\n",
    "            u_ltag_dict[user_id][tag]+=1\n",
    "            u_lpart_dict[user_id][part]+=1\n",
    "            u_lto_dict[user_id][to]+=1\n",
    "            u_l_dict[user_id]+=1\n",
    "    return train_x,train_y\n",
    "#     return (train,cu_dict,ccu_dict,cpu_dict,last_ts,ctgu_dict,cctgu_dict,u_tc_dict,u_ptc_dict,u_pq_dict,u_qet_dict,u_hist_dict,u_tsli_dict,u_l_dict,u_ltag_dict,u_lpart_dict,u_lto_dict,u_10pre_dict,u_3pt_dict)"
   ]
  },
  {
   "cell_type": "code",
   "execution_count": 48,
   "id": "2d71bf41",
   "metadata": {},
   "outputs": [],
   "source": [
    "# train_x,train_y=update_data(test_data,cu_dict,ccu_dict,cpu_dict,last_ts,ctgu_dict,cctgu_dict,u_tc_dict,u_ptc_dict,u_pq_dict,u_qet_dict,u_hist_dict,u_tsli_dict,u_l_dict,u_ltag_dict,u_lpart_dict,u_lto_dict,u_10pre_dict,u_3pt_dict)"
   ]
  },
  {
   "cell_type": "code",
   "execution_count": 49,
   "id": "c9eee070",
   "metadata": {},
   "outputs": [],
   "source": [
    "\n",
    "def pre_process(df,cu_dict,ccu_dict,cpu_dict,last_ts,ctgu_dict,cctgu_dict,u_tc_dict,u_ptc_dict,u_pq_dict,u_qet_dict,u_hist_dict,u_tsli_dict,u_l_dict,u_ltag_dict,u_lpart_dict,u_lto_dict,u_10pre_dict,u_3pt_dict):\n",
    "    data=df.values\n",
    "    train_x,train_y=update_data(data,cu_dict,ccu_dict,cpu_dict,last_ts,ctgu_dict,cctgu_dict,u_tc_dict,u_ptc_dict,u_pq_dict,u_qet_dict,u_hist_dict,u_tsli_dict,u_l_dict,u_ltag_dict,u_lpart_dict,u_lto_dict,u_10pre_dict,u_3pt_dict)\n",
    "    return train_x,train_y\n",
    "#     return (train,cu_dict,ccu_dict,cpu_dict,last_ts,ctgu_dict,cctgu_dict,u_tc_dict,u_ptc_dict,u_pq_dict,u_qet_dict,u_hist_dict,u_tsli_dict,u_l_dict,u_ltag_dict,u_lpart_dict,u_lto_dict,u_10pre_dict,u_3pt_dict)"
   ]
  },
  {
   "cell_type": "code",
   "execution_count": 50,
   "id": "bc8ffaf1",
   "metadata": {},
   "outputs": [
    {
     "name": "stdout",
     "output_type": "stream",
     "text": [
      "CPU times: total: 18.5 s\n",
      "Wall time: 21.9 s\n"
     ]
    }
   ],
   "source": [
    "%%time\n",
    "#split the data set\n",
    "bins = np.linspace(train_df.user_id.min()-1, train_df.user_id.max(), num=1000, dtype=np.int32)\n",
    "dfg = train_df.groupby(pd.cut(train_df.user_id, bins))\n",
    "groups = [ dfg.get_group(_) for _ in dfg.groups.keys() ]"
   ]
  },
  {
   "cell_type": "code",
   "execution_count": 51,
   "id": "dcc97e46",
   "metadata": {},
   "outputs": [],
   "source": [
    "#initial\n",
    "cu_dict=defaultdict(lambda:0)#user number of questions\n",
    "ccu_dict=defaultdict(lambda:0)#user number of correct questions\n",
    "cpu_dict=defaultdict(lambda: defaultdict(lambda:0))#user number of part\n",
    "last_ts=defaultdict(lambda:0)\n",
    "ctgu_dict=defaultdict(lambda: defaultdict(lambda:0))#user number on the tag group\n",
    "cctgu_dict=defaultdict(lambda: defaultdict(lambda:0))#user correct number on the tag group\n",
    "u_tc_dict=defaultdict(lambda:0) #number of questions in current task container\n",
    "u_ptc_dict=defaultdict(lambda:-1) #prior task container\n",
    "u_pq_dict=defaultdict(lambda:-1) #prior task container\n",
    "u_qet_dict=defaultdict(lambda:defaultdict(lambda:25423)) # question elapsed time,use userid as key and tcid as sub-key\n",
    "u_hist_dict=defaultdict(lambda: defaultdict(lambda:0)) #question history of user with answer\n",
    "u_tsli_dict=defaultdict(lambda: 0) #temp tsli\n",
    "#lecture dict\n",
    "u_l_dict=defaultdict(lambda:0)\n",
    "u_ltag_dict=defaultdict(lambda: defaultdict(lambda:0))\n",
    "u_lpart_dict=defaultdict(lambda: defaultdict(lambda:0))\n",
    "u_lto_dict=defaultdict(lambda: defaultdict(lambda:0))\n",
    "u_10pre_dict=defaultdict(lambda:deque([0,0,0,0,0,0,0,0,0,0]))\n",
    "u_3pt_dict=defaultdict(lambda:deque([0,0,0]))#pre timestamp"
   ]
  },
  {
   "cell_type": "code",
   "execution_count": 52,
   "id": "dd7be43e",
   "metadata": {
    "scrolled": true
   },
   "outputs": [
    {
     "name": "stdout",
     "output_type": "stream",
     "text": [
      "0\n",
      "1\n",
      "2\n",
      "3\n",
      "4\n",
      "5\n",
      "6\n",
      "7\n",
      "8\n",
      "9\n"
     ]
    }
   ],
   "source": [
    "#only take 1% data as sample\n",
    "for i, df in enumerate(groups[0:10]):\n",
    "    print(i)\n",
    "    train=[]\n",
    "    train_x,train_y=pre_process(df,cu_dict,ccu_dict,cpu_dict,last_ts,ctgu_dict,cctgu_dict,u_tc_dict,u_ptc_dict,u_pq_dict,u_qet_dict,u_hist_dict,u_tsli_dict,u_l_dict,u_ltag_dict,u_lpart_dict,u_lto_dict,u_10pre_dict,u_3pt_dict)\n",
    "    file1=f'train_pre/train_pre_x{i}.pkl'\n",
    "    file2=f'train_pre/train_pre_y{i}.pkl'\n",
    "    with open(file1, 'wb') as f:\n",
    "        pickle.dump(train_x, f, protocol=pickle.HIGHEST_PROTOCOL)\n",
    "    with open(file2, 'wb') as f:\n",
    "        pickle.dump(train_y, f, protocol=pickle.HIGHEST_PROTOCOL)\n"
   ]
  },
  {
   "cell_type": "markdown",
   "id": "3b44b8c8",
   "metadata": {},
   "source": [
    "## Here we only take 300w data as sample. The whole data set contains 10000w data. "
   ]
  },
  {
   "cell_type": "code",
   "execution_count": 53,
   "id": "82592842",
   "metadata": {},
   "outputs": [],
   "source": [
    "k=3"
   ]
  },
  {
   "cell_type": "code",
   "execution_count": 54,
   "id": "ebcb0fac",
   "metadata": {},
   "outputs": [
    {
     "name": "stderr",
     "output_type": "stream",
     "text": [
      "100%|████████████████████████████████████████████████████████████████████████████████████| 3/3 [00:04<00:00,  1.53s/it]\n"
     ]
    }
   ],
   "source": [
    "for i in tqdm(range(k)):\n",
    "    file_x=f'train_pre/train_pre_x{i}.pkl'\n",
    "    datas=pd.DataFrame(pd.read_pickle(file_x))\n",
    "    if i==0:\n",
    "        data_x=datas\n",
    "    else:\n",
    "        data_x=pd.concat([data_x,datas])\n",
    "data_x.to_csv('train_x.csv')"
   ]
  },
  {
   "cell_type": "code",
   "execution_count": 55,
   "id": "6f5f948f",
   "metadata": {},
   "outputs": [
    {
     "name": "stderr",
     "output_type": "stream",
     "text": [
      "100%|███████████████████████████████████████████████████████████████████████████████████| 3/3 [00:00<00:00, 328.86it/s]\n"
     ]
    }
   ],
   "source": [
    "for i in tqdm(range(k)):\n",
    "    file_y=f'train_pre/train_pre_y{i}.pkl'\n",
    "    if i==0:\n",
    "        data_y=pd.read_pickle(file_y)\n",
    "    else:\n",
    "        data_y=data_y+pd.read_pickle(file_y)\n",
    "pd.DataFrame(data_y).to_csv('train_y.csv')"
   ]
  }
 ],
 "metadata": {
  "kernelspec": {
   "display_name": "Python 3 (ipykernel)",
   "language": "python",
   "name": "python3"
  },
  "language_info": {
   "codemirror_mode": {
    "name": "ipython",
    "version": 3
   },
   "file_extension": ".py",
   "mimetype": "text/x-python",
   "name": "python",
   "nbconvert_exporter": "python",
   "pygments_lexer": "ipython3",
   "version": "3.9.12"
  }
 },
 "nbformat": 4,
 "nbformat_minor": 5
}
